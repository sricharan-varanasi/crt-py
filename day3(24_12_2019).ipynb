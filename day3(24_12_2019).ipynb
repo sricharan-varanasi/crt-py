{
  "nbformat": 4,
  "nbformat_minor": 0,
  "metadata": {
    "colab": {
      "name": "day3(24-12-2019).ipynb",
      "provenance": []
    },
    "kernelspec": {
      "name": "python3",
      "display_name": "Python 3"
    }
  },
  "cells": [
    {
      "cell_type": "markdown",
      "metadata": {
        "id": "VWGDkJMBYFMQ",
        "colab_type": "text"
      },
      "source": [
        "# PYTHON PROGRAMMING\n",
        "## PYTHON PROGRAMMING\n",
        "### PYTHON PROGRAMMING\n",
        "#### PYTHON PROGRAMMING\n",
        "##### PYTHON PROGRAMMING\n",
        "\n",
        "\n"
      ]
    },
    {
      "cell_type": "code",
      "metadata": {
        "id": "I8twWxDAY_oV",
        "colab_type": "code",
        "colab": {}
      },
      "source": [
        ""
      ],
      "execution_count": 0,
      "outputs": []
    },
    {
      "cell_type": "markdown",
      "metadata": {
        "id": "axhOxFLRZVGM",
        "colab_type": "text"
      },
      "source": [
        "\n",
        "1. a\n",
        "2. b\n",
        "3. c\n",
        "  1. d\n",
        "  2. e\n",
        "  3. f\n",
        "\n",
        "\n",
        "\n"
      ]
    },
    {
      "cell_type": "code",
      "metadata": {
        "id": "pEVNH29kbz6Z",
        "colab_type": "code",
        "colab": {}
      },
      "source": [
        ""
      ],
      "execution_count": 0,
      "outputs": []
    },
    {
      "cell_type": "markdown",
      "metadata": {
        "id": "tUKhSybZb1Uq",
        "colab_type": "text"
      },
      "source": [
        "[python](https://www.geeksforgeeks.org/python-expandtabs-method/)"
      ]
    },
    {
      "cell_type": "code",
      "metadata": {
        "id": "KdGYnkGPcBKj",
        "colab_type": "code",
        "colab": {}
      },
      "source": [
        ""
      ],
      "execution_count": 0,
      "outputs": []
    },
    {
      "cell_type": "markdown",
      "metadata": {
        "id": "jhc5LEKKcobv",
        "colab_type": "text"
      },
      "source": [
        "![image](https://i.udemycdn.com/course/750x422/1817082_cf8a_9.jpg)"
      ]
    },
    {
      "cell_type": "code",
      "metadata": {
        "id": "imczU7ENdGTc",
        "colab_type": "code",
        "colab": {}
      },
      "source": [
        ""
      ],
      "execution_count": 0,
      "outputs": []
    },
    {
      "cell_type": "markdown",
      "metadata": {
        "id": "NJnH-qhUdeu2",
        "colab_type": "text"
      },
      "source": [
        "- abc\n",
        "- def\n",
        "\n"
      ]
    },
    {
      "cell_type": "code",
      "metadata": {
        "id": "a7zEU3fudtCK",
        "colab_type": "code",
        "outputId": "d078dba4-2239-4cb5-ba90-29c068234210",
        "colab": {
          "base_uri": "https://localhost:8080/",
          "height": 34
        }
      },
      "source": [
        "print(\"Hello world!\")"
      ],
      "execution_count": 0,
      "outputs": [
        {
          "output_type": "stream",
          "text": [
            "Hello world!\n"
          ],
          "name": "stdout"
        }
      ]
    },
    {
      "cell_type": "code",
      "metadata": {
        "id": "v0Wx6a3jiDh_",
        "colab_type": "code",
        "outputId": "c492fe1a-b8c2-43dc-8a1d-5ca1688ae21f",
        "colab": {
          "base_uri": "https://localhost:8080/",
          "height": 34
        }
      },
      "source": [
        "a=10\n",
        "b=20\n",
        "a+b"
      ],
      "execution_count": 0,
      "outputs": [
        {
          "output_type": "execute_result",
          "data": {
            "text/plain": [
              "30"
            ]
          },
          "metadata": {
            "tags": []
          },
          "execution_count": 2
        }
      ]
    },
    {
      "cell_type": "code",
      "metadata": {
        "id": "yr6Ambrmiqj9",
        "colab_type": "code",
        "outputId": "e54a949c-0c78-4b93-e158-d9521ed9cba8",
        "colab": {
          "base_uri": "https://localhost:8080/",
          "height": 34
        }
      },
      "source": [
        "a=10\n",
        "b=20\n",
        "print(type(a),type(b))"
      ],
      "execution_count": 0,
      "outputs": [
        {
          "output_type": "stream",
          "text": [
            "<class 'int'> <class 'int'>\n"
          ],
          "name": "stdout"
        }
      ]
    },
    {
      "cell_type": "code",
      "metadata": {
        "id": "xVVCTlOpi1k3",
        "colab_type": "code",
        "outputId": "70ec6f62-82f0-45c0-b2f5-6de4391e04b3",
        "colab": {
          "base_uri": "https://localhost:8080/",
          "height": 34
        }
      },
      "source": [
        "a=10.35\n",
        "b=25\n",
        "print(type(a),type(b))"
      ],
      "execution_count": 0,
      "outputs": [
        {
          "output_type": "stream",
          "text": [
            "<class 'float'> <class 'int'>\n"
          ],
          "name": "stdout"
        }
      ]
    },
    {
      "cell_type": "code",
      "metadata": {
        "id": "XHAIo03Mi-dJ",
        "colab_type": "code",
        "outputId": "af236f20-128a-4f58-cd99-a2f018c0fe9a",
        "colab": {
          "base_uri": "https://localhost:8080/",
          "height": 67
        }
      },
      "source": [
        "a=input(\"Enter a value : \")\n",
        "b=input(\"Enter b value : \")\n",
        "print(a+b)"
      ],
      "execution_count": 0,
      "outputs": [
        {
          "output_type": "stream",
          "text": [
            "Enter a value : 10\n",
            "Enter b value : 20\n",
            "1020\n"
          ],
          "name": "stdout"
        }
      ]
    },
    {
      "cell_type": "code",
      "metadata": {
        "id": "_XEnRYwOj8Ui",
        "colab_type": "code",
        "outputId": "f798ffe8-d5ed-4888-8bf5-0fe625647f66",
        "colab": {
          "base_uri": "https://localhost:8080/",
          "height": 67
        }
      },
      "source": [
        "a=int(input(\"Enter a value : \"))\n",
        "b=int(input(\"Enter b value : \"))\n",
        "print(a+b)"
      ],
      "execution_count": 0,
      "outputs": [
        {
          "output_type": "stream",
          "text": [
            "Enter a value : 5\n",
            "Enter b value : 15\n",
            "20\n"
          ],
          "name": "stdout"
        }
      ]
    },
    {
      "cell_type": "code",
      "metadata": {
        "id": "M2iptAAlk2YF",
        "colab_type": "code",
        "outputId": "08e3daba-f84a-4be5-9299-3ac6865f4fcd",
        "colab": {
          "base_uri": "https://localhost:8080/",
          "height": 67
        }
      },
      "source": [
        "a=input(\"Enter name : \")\n",
        "b=int(input(\"Enter age : \"))\n",
        "print(\"My name is \"+a+\" and age is \",b)"
      ],
      "execution_count": 0,
      "outputs": [
        {
          "output_type": "stream",
          "text": [
            "Enter name : charan\n",
            "Enter age : 19\n",
            "My name is charan and age is  19\n"
          ],
          "name": "stdout"
        }
      ]
    },
    {
      "cell_type": "code",
      "metadata": {
        "id": "pZ47bgxmmv8M",
        "colab_type": "code",
        "outputId": "88f80382-5fba-4fd6-eb17-10277b9d130d",
        "colab": {
          "base_uri": "https://localhost:8080/",
          "height": 67
        }
      },
      "source": [
        "a=input(\"Enter name : \")\n",
        "b=int(input(\"Enter age : \"))\n",
        "print(\"My name is \"+a, end= \" \")\n",
        "print(\"and age is \",b)"
      ],
      "execution_count": 0,
      "outputs": [
        {
          "output_type": "stream",
          "text": [
            "Enter name : charan\n",
            "Enter age : 19\n",
            "My name is charan and age is  19\n"
          ],
          "name": "stdout"
        }
      ]
    },
    {
      "cell_type": "code",
      "metadata": {
        "id": "_0qFFu8IpUQM",
        "colab_type": "code",
        "outputId": "ec4dfab5-db2c-47e3-bc69-79912ae1a2a8",
        "colab": {
          "base_uri": "https://localhost:8080/",
          "height": 235
        }
      },
      "source": [
        "help(\"keywords\")"
      ],
      "execution_count": 0,
      "outputs": [
        {
          "output_type": "stream",
          "text": [
            "\n",
            "Here is a list of the Python keywords.  Enter any keyword to get more help.\n",
            "\n",
            "False               def                 if                  raise\n",
            "None                del                 import              return\n",
            "True                elif                in                  try\n",
            "and                 else                is                  while\n",
            "as                  except              lambda              with\n",
            "assert              finally             nonlocal            yield\n",
            "break               for                 not                 \n",
            "class               from                or                  \n",
            "continue            global              pass                \n",
            "\n"
          ],
          "name": "stdout"
        }
      ]
    },
    {
      "cell_type": "code",
      "metadata": {
        "id": "yIlf_LP8pWeW",
        "colab_type": "code",
        "colab": {}
      },
      "source": [
        ""
      ],
      "execution_count": 0,
      "outputs": []
    }
  ]
}