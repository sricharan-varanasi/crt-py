{
 "cells": [
  {
   "cell_type": "code",
   "execution_count": 6,
   "metadata": {},
   "outputs": [
    {
     "name": "stdout",
     "output_type": "stream",
     "text": [
      "dsajbmd76575dasd876\n",
      "8\n",
      "51\n"
     ]
    }
   ],
   "source": [
    "#count no of digits in the string and sum\n",
    "s=input()\n",
    "i=0\n",
    "count=0\n",
    "st=0\n",
    "while i<len(s):\n",
    "    if s[i].isdigit():\n",
    "        count=count+1\n",
    "        st = st + int(s[i])\n",
    "    i=i+1\n",
    "print(count)\n",
    "print(st)"
   ]
  },
  {
   "cell_type": "code",
   "execution_count": null,
   "metadata": {},
   "outputs": [],
   "source": [
    "#for loop usage\n",
    "#1.using range()\n",
    "#2.using iterable object\n",
    "n=int(input(\"Enter a number : \"))\n",
    "for i in range(1,n+1,3):\n",
    "    print(i,end=\" \")"
   ]
  },
  {
   "cell_type": "code",
   "execution_count": 21,
   "metadata": {},
   "outputs": [
    {
     "name": "stdout",
     "output_type": "stream",
     "text": [
      "python\n",
      "p y t h o n \n",
      "p y t h o n \n",
      "p y t h o n "
     ]
    }
   ],
   "source": [
    "#input:python\n",
    "#output:p y t h o n\n",
    "st=input()\n",
    "i=0\n",
    "while i<len(st):\n",
    "    print(st[i],end=\" \")\n",
    "    i=i+1\n",
    "print()\n",
    "for i in range(0,len(st)):\n",
    "    print(st[i],end=\" \")\n",
    "print()\n",
    "for i in st:\n",
    "    print(i,end=\" \")"
   ]
  },
  {
   "cell_type": "markdown",
   "metadata": {},
   "source": [
    "## collection type Data type:\n",
    "## List:\n",
    "1. for creating a list use [ ]\n",
    "2. lists are mutable\n",
    "3. lists are indexed\n",
    "4. lists are ordered\n",
    "5. lists allows duplicate values\n"
   ]
  },
  {
   "cell_type": "code",
   "execution_count": 20,
   "metadata": {},
   "outputs": [
    {
     "name": "stdout",
     "output_type": "stream",
     "text": [
      "[1, 2, 3]\n",
      "[8, 53]\n",
      "sdneirf\n",
      "3\n"
     ]
    }
   ],
   "source": [
    "list1=[8,53,40,57,13,34,\"friends\",False,[1,2,3]]\n",
    "print(list1[-1])\n",
    "print(list1[0:2])\n",
    "print(list1[-3][::-1])\n",
    "print(list1[-1][-1])"
   ]
  },
  {
   "cell_type": "code",
   "execution_count": 39,
   "metadata": {},
   "outputs": [
    {
     "name": "stdout",
     "output_type": "stream",
     "text": [
      "Before ading elements :  [34, 45, 8, 53]\n",
      "After adding elements : [34, 400, 45, 8, 53, 100, 200, 300]\n",
      "[34, 400, 45, 8, 53, 100, 200, 300, 1, 2, 3]\n",
      "[34, 400, 45, 8, 53, 200, 300, 1, 2, 3]\n"
     ]
    },
    {
     "data": {
      "text/plain": [
       "[]"
      ]
     },
     "execution_count": 39,
     "metadata": {},
     "output_type": "execute_result"
    }
   ],
   "source": [
    "#manipulating a list\n",
    "list1=[34,45,8,53]\n",
    "list2=[23,34,45,56]\n",
    "print(\"Before ading elements : \",list1)\n",
    "list1.append(100)\n",
    "list1.insert(1,400)\n",
    "list1.append(200)\n",
    "list1.append(300)\n",
    "print(\"After adding elements :\",list1)\n",
    "list1.extend([1,2,3])         \n",
    "print(list1)\n",
    "#list1.pop(1)\n",
    "#print(list1)\n",
    "list1.remove(100)\n",
    "list2.clear()\n",
    "print(list1)\n",
    "list2"
   ]
  },
  {
   "cell_type": "code",
   "execution_count": 40,
   "metadata": {},
   "outputs": [
    {
     "data": {
      "text/plain": [
       "[34, 400, 45, 8, 53, 1000, 300, 1, 2, 3]"
      ]
     },
     "execution_count": 40,
     "metadata": {},
     "output_type": "execute_result"
    }
   ],
   "source": [
    "#Replacing an element\n",
    "list1[5]=1000\n",
    "list1"
   ]
  },
  {
   "cell_type": "code",
   "execution_count": 63,
   "metadata": {},
   "outputs": [
    {
     "data": {
      "text/plain": [
       "[9, 11, 23, 32, 54]"
      ]
     },
     "execution_count": 63,
     "metadata": {},
     "output_type": "execute_result"
    }
   ],
   "source": [
    "list3=[23,54,32,11,9]\n",
    "list3.sort(reverse = True)\n",
    "list3\n",
    "list3.reverse()\n",
    "list3"
   ]
  },
  {
   "cell_type": "code",
   "execution_count": 65,
   "metadata": {},
   "outputs": [
    {
     "data": {
      "text/plain": [
       "1"
      ]
     },
     "execution_count": 65,
     "metadata": {},
     "output_type": "execute_result"
    }
   ],
   "source": [
    "list3.count(54)"
   ]
  },
  {
   "cell_type": "code",
   "execution_count": 67,
   "metadata": {},
   "outputs": [
    {
     "data": {
      "text/plain": [
       "1"
      ]
     },
     "execution_count": 67,
     "metadata": {},
     "output_type": "execute_result"
    }
   ],
   "source": [
    "list3.index(11)"
   ]
  },
  {
   "cell_type": "code",
   "execution_count": 71,
   "metadata": {},
   "outputs": [
    {
     "name": "stdout",
     "output_type": "stream",
     "text": [
      "[9, 11, 23, 32, 54, 'python']   [9, 11, 23, 32, 54, 'python']\n"
     ]
    }
   ],
   "source": [
    "list3.append(\"python\")\n",
    "list4 = list3\n",
    "print(list4,\" \",list3)"
   ]
  },
  {
   "cell_type": "code",
   "execution_count": 72,
   "metadata": {},
   "outputs": [
    {
     "data": {
      "text/plain": [
       "[9, 11, 23, 32, 54, 'python']"
      ]
     },
     "execution_count": 72,
     "metadata": {},
     "output_type": "execute_result"
    }
   ],
   "source": [
    "list5=list4.copy()\n",
    "list5"
   ]
  },
  {
   "cell_type": "code",
   "execution_count": 73,
   "metadata": {},
   "outputs": [
    {
     "name": "stdout",
     "output_type": "stream",
     "text": [
      "[1, 2, 3]\n"
     ]
    }
   ],
   "source": [
    "l1=[1,2,3]\n",
    "l2=l1\n",
    "print(l2)"
   ]
  },
  {
   "cell_type": "code",
   "execution_count": 76,
   "metadata": {},
   "outputs": [
    {
     "data": {
      "text/plain": [
       "[1, 2, 3]"
      ]
     },
     "execution_count": 76,
     "metadata": {},
     "output_type": "execute_result"
    }
   ],
   "source": [
    "l3=l1.copy()\n",
    "l3"
   ]
  },
  {
   "cell_type": "code",
   "execution_count": 78,
   "metadata": {},
   "outputs": [
    {
     "name": "stdout",
     "output_type": "stream",
     "text": [
      "[1, 2, 3, 100] [1, 2, 3, 100] [1, 2, 3]\n",
      "[1, 2, 3, 100, 100] [1, 2, 3, 100, 100] [1, 2, 3]\n"
     ]
    }
   ],
   "source": [
    "print(l1,l2,l3)\n",
    "l1.append(100)\n",
    "print(l1,l2,l3)"
   ]
  },
  {
   "cell_type": "code",
   "execution_count": 88,
   "metadata": {},
   "outputs": [
    {
     "data": {
      "text/plain": [
       "[4, 16, 25, 49, 64]"
      ]
     },
     "execution_count": 88,
     "metadata": {},
     "output_type": "execute_result"
    }
   ],
   "source": [
    "list7=[]\n",
    "list8=[]\n",
    "list6=[2,4,5,7,8]\n",
    "for i in range(0,len(list6)):\n",
    "    list7.append(list6[i]**2)\n",
    "for i in list6:\n",
    "    list8.append(i**2)\n",
    "list7"
   ]
  },
  {
   "cell_type": "code",
   "execution_count": 90,
   "metadata": {},
   "outputs": [
    {
     "name": "stdout",
     "output_type": "stream",
     "text": [
      "2\n",
      "4\n",
      "6\n"
     ]
    }
   ],
   "source": [
    "l5=[2,3,4,5,6]\n",
    "for i in l5:\n",
    "    if(i%2==0):\n",
    "        print(i)"
   ]
  },
  {
   "cell_type": "code",
   "execution_count": 96,
   "metadata": {},
   "outputs": [
    {
     "name": "stdout",
     "output_type": "stream",
     "text": [
      "Enter no of values : 5\n",
      "2\n",
      "1\n",
      "4\n",
      "5\n",
      "6\n",
      "18\n"
     ]
    },
    {
     "data": {
      "text/plain": [
       "[2, 1, 4, 5, 6]"
      ]
     },
     "execution_count": 96,
     "metadata": {},
     "output_type": "execute_result"
    }
   ],
   "source": [
    "#create a list and accept values of the list at run time\n",
    "#and print sum of all the elements of the list at run time\n",
    "l6=[]\n",
    "s=0\n",
    "n=int(input(\"Enter no of values : \"))\n",
    "for i in range(0,n):\n",
    "    l6.append(int(input()))\n",
    "    \n",
    "print(sum(l6))   \n",
    "l6"
   ]
  },
  {
   "cell_type": "markdown",
   "metadata": {},
   "source": [
    "## Tuple :\n",
    "\n"
   ]
  },
  {
   "cell_type": "code",
   "execution_count": 98,
   "metadata": {},
   "outputs": [
    {
     "name": "stdout",
     "output_type": "stream",
     "text": [
      "<class 'tuple'>\n"
     ]
    }
   ],
   "source": [
    "x=23,34,45,56,67\n",
    "print(x)\n",
    "print(type(x))"
   ]
  },
  {
   "cell_type": "code",
   "execution_count": 99,
   "metadata": {},
   "outputs": [
    {
     "name": "stdout",
     "output_type": "stream",
     "text": [
      "23 34 5\n"
     ]
    }
   ],
   "source": [
    "tup1 = (23,34,5)\n",
    "x,y,z = tup1\n",
    "print(x,y,z)"
   ]
  },
  {
   "cell_type": "markdown",
   "metadata": {},
   "source": [
    "### Dictionary :\n",
    "#### Syntax :{Key 1: value 1,key 2: value 2,key 3: value 3,...}\n",
    "##### key:\n",
    "1. key should be unique\n",
    "2. key should be immutable-->int,float,string,tuple"
   ]
  },
  {
   "cell_type": "code",
   "execution_count": 102,
   "metadata": {},
   "outputs": [
    {
     "data": {
      "text/plain": [
       "{'name': 'aunty', 'course': 'brain-eating', 'address': 'mumbai'}"
      ]
     },
     "execution_count": 102,
     "metadata": {},
     "output_type": "execute_result"
    }
   ],
   "source": [
    "dict1 = {\"name\":\"aunty\",\"course\":\"brain-eating\",\"address\":\"mumbai\"}\n",
    "dict1"
   ]
  },
  {
   "cell_type": "code",
   "execution_count": 103,
   "metadata": {},
   "outputs": [
    {
     "name": "stdout",
     "output_type": "stream",
     "text": [
      "{'name': 'aunty', 'course': 'dry-wash', 'address': 'mumbai'}\n"
     ]
    }
   ],
   "source": [
    "#replace values\n",
    "dict1[\"course\"]=\"dry-wash\"\n",
    "print(dict1)"
   ]
  },
  {
   "cell_type": "code",
   "execution_count": 104,
   "metadata": {},
   "outputs": [
    {
     "name": "stdout",
     "output_type": "stream",
     "text": [
      "{'name': 'aunty', 'course': 'dry-wash', 'address': 'mumbai', 'college': 'GITAM'}\n"
     ]
    }
   ],
   "source": [
    "#Adding entry\n",
    "dict1[\"college\"]=\"GITAM\"\n",
    "print(dict1)"
   ]
  },
  {
   "cell_type": "code",
   "execution_count": 106,
   "metadata": {},
   "outputs": [
    {
     "name": "stdout",
     "output_type": "stream",
     "text": [
      "{'name': 'aunty', 'course': 'dry-wash', 'college': 'GITAM'}\n"
     ]
    }
   ],
   "source": [
    "#Removing Entry\n",
    "del dict1[\"address\"]\n",
    "print(dict1)"
   ]
  },
  {
   "cell_type": "markdown",
   "metadata": {},
   "source": [
    "## Function :\n",
    "### def name_of_the_function(arg list):\n",
    "#### statements\n",
    "#### return"
   ]
  },
  {
   "cell_type": "code",
   "execution_count": 108,
   "metadata": {},
   "outputs": [
    {
     "name": "stdout",
     "output_type": "stream",
     "text": [
      "30\n",
      "300\n"
     ]
    }
   ],
   "source": [
    "def add(x,y):#function definition\n",
    "    return x+y\n",
    "\n",
    "print(add(10,20))\n",
    "print(add(100,200))"
   ]
  },
  {
   "cell_type": "code",
   "execution_count": 110,
   "metadata": {},
   "outputs": [
    {
     "name": "stdout",
     "output_type": "stream",
     "text": [
      "343\n"
     ]
    }
   ],
   "source": [
    "def square(x):\n",
    "    return x*x\n",
    "def cube(x):\n",
    "    return square(x)*x\n",
    "\n",
    "print(cube(7))"
   ]
  },
  {
   "cell_type": "code",
   "execution_count": 111,
   "metadata": {},
   "outputs": [
    {
     "name": "stdout",
     "output_type": "stream",
     "text": [
      "my, name, is, x, "
     ]
    }
   ],
   "source": [
    "string=\"my name is x\"\n",
    "for i in string.split():\n",
    "    print(i,end=\", \")"
   ]
  },
  {
   "cell_type": "code",
   "execution_count": 119,
   "metadata": {},
   "outputs": [
    {
     "name": "stdout",
     "output_type": "stream",
     "text": [
      "4 3 2 1 "
     ]
    }
   ],
   "source": [
    "for i in [1,2,3,4][::-1]:\n",
    "    print (i,end=\" \")"
   ]
  },
  {
   "cell_type": "code",
   "execution_count": 116,
   "metadata": {},
   "outputs": [
    {
     "name": "stdout",
     "output_type": "stream",
     "text": [
      "[1, 3, 5, 7, 9] "
     ]
    }
   ],
   "source": [
    "a=[1,2,3,4,5,6,7,8,9]\n",
    "print(a[::2],end=\" \")"
   ]
  },
  {
   "cell_type": "code",
   "execution_count": 114,
   "metadata": {},
   "outputs": [],
   "source": [
    "x=0\n",
    "while False:\n",
    "    x=x+1\n",
    "    print('so good to see you.')"
   ]
  },
  {
   "cell_type": "code",
   "execution_count": null,
   "metadata": {},
   "outputs": [],
   "source": []
  }
 ],
 "metadata": {
  "kernelspec": {
   "display_name": "Python 3",
   "language": "python",
   "name": "python3"
  },
  "language_info": {
   "codemirror_mode": {
    "name": "ipython",
    "version": 3
   },
   "file_extension": ".py",
   "mimetype": "text/x-python",
   "name": "python",
   "nbconvert_exporter": "python",
   "pygments_lexer": "ipython3",
   "version": "3.7.4"
  }
 },
 "nbformat": 4,
 "nbformat_minor": 2
}
